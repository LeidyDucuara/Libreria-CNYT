{
 "cells": [
  {
   "cell_type": "markdown",
   "metadata": {},
   "source": [
    "# Elaboración de la libreria de números complejos\n",
    "\n",
    "A lo largo de este documento vamos a escribir funciones que nos permitiran trabajar con números complejos"
   ]
  },
  {
   "cell_type": "markdown",
   "metadata": {},
   "source": [
    "## Representación de un número complejo\n",
    "\n",
    "El número $a + ib$ lo representaremos mediante la lista: [a, b]"
   ]
  },
  {
   "cell_type": "markdown",
   "metadata": {},
   "source": [
    "## 1. Suma \n",
    "\n",
    "Definiremos una función para la suma de dos números complejos "
   ]
  },
  {
   "cell_type": "code",
   "execution_count": 3,
   "metadata": {},
   "outputs": [],
   "source": [
    "def suma(c1,c2):\n",
    "    \"\"\"\n",
    "    La función suma recibe dos números: c1 y c2 (que deben ser listas de longitud dos) y \n",
    "    retorna un número complejo de la misma forma, correspondiente a la operación c1 + c2\n",
    "    \"\"\"\n",
    "    return [c1[0]+c2[0],c1[1]+c2[1]]"
   ]
  },
  {
   "cell_type": "markdown",
   "metadata": {},
   "source": [
    "Probemos la función suma"
   ]
  },
  {
   "cell_type": "code",
   "execution_count": 4,
   "metadata": {},
   "outputs": [
    {
     "data": {
      "text/plain": [
       "[10, 7]"
      ]
     },
     "execution_count": 4,
     "metadata": {},
     "output_type": "execute_result"
    }
   ],
   "source": [
    "c1 = [3,2]\n",
    "c2 = [7,5]\n",
    "suma(c1,c2)"
   ]
  },
  {
   "cell_type": "markdown",
   "metadata": {},
   "source": [
    "Justificación de la prueba:"
   ]
  },
  {
   "cell_type": "markdown",
   "metadata": {},
   "source": [
    "$$(3+2i)+(7+5i)\n",
    "=(3+7)+(2+5)i\n",
    "=10+7i$$"
   ]
  },
  {
   "cell_type": "markdown",
   "metadata": {},
   "source": [
    "## 2. Resta "
   ]
  },
  {
   "cell_type": "markdown",
   "metadata": {},
   "source": [
    "A continuación definiremos una función para la resta de dos números complejos"
   ]
  },
  {
   "cell_type": "code",
   "execution_count": 5,
   "metadata": {},
   "outputs": [],
   "source": [
    "def resta(c1,c2):\n",
    "    \"\"\"\n",
    "    La función resta recibe dos números: c1 y c2 (que deben ser listas de longitud dos) y \n",
    "    retorna un número complejo de la misma forma, correspondiente a la operación c1 - c2\n",
    "    \"\"\"\n",
    "    return [c1[0]-c2[0],c1[1]-c2[1]]"
   ]
  },
  {
   "cell_type": "markdown",
   "metadata": {},
   "source": [
    "Probemos la función resta"
   ]
  },
  {
   "cell_type": "code",
   "execution_count": 6,
   "metadata": {},
   "outputs": [
    {
     "data": {
      "text/plain": [
       "[-1, -8]"
      ]
     },
     "execution_count": 6,
     "metadata": {},
     "output_type": "execute_result"
    }
   ],
   "source": [
    "c1 = [3,-2]\n",
    "c2 = [4,6]\n",
    "resta(c1,c2)"
   ]
  },
  {
   "cell_type": "markdown",
   "metadata": {},
   "source": [
    "Justificación de la prueba:"
   ]
  },
  {
   "cell_type": "markdown",
   "metadata": {},
   "source": [
    "$$(3-2i)-(4+6i)=(3-4)+(-2-6)i=-1-8i$$"
   ]
  },
  {
   "cell_type": "markdown",
   "metadata": {},
   "source": [
    "## 3. Multiplicación"
   ]
  },
  {
   "cell_type": "markdown",
   "metadata": {},
   "source": [
    "Ahora definiremos una función para la multiplicación de dos números complejos"
   ]
  },
  {
   "cell_type": "code",
   "execution_count": 7,
   "metadata": {},
   "outputs": [],
   "source": [
    "def multiplicacion(c1,c2):\n",
    "    \"\"\"\n",
    "    La función multiplicación recibe dos números: c1 y c2 (que deben ser listas de longitud dos) y \n",
    "    retorna un número complejo de la misma forma, correspondiente a la operación c1 * c2\n",
    "    \"\"\"\n",
    "    return[c1[0]*c2[0]-c1[1]*c2[1],c1[0]*c2[1]+c1[1]*c2[0]]"
   ]
  },
  {
   "cell_type": "markdown",
   "metadata": {},
   "source": [
    "Probaremos la función multiplicacion"
   ]
  },
  {
   "cell_type": "code",
   "execution_count": 8,
   "metadata": {},
   "outputs": [
    {
     "data": {
      "text/plain": [
       "[93, 15]"
      ]
     },
     "execution_count": 8,
     "metadata": {},
     "output_type": "execute_result"
    }
   ],
   "source": [
    "c1 = [5,3]\n",
    "c2 = [15,-6]\n",
    "multiplicacion(c1,c2)"
   ]
  },
  {
   "cell_type": "markdown",
   "metadata": {},
   "source": [
    "Justificación de la prueba:"
   ]
  },
  {
   "cell_type": "markdown",
   "metadata": {},
   "source": [
    "$$(5+3i)*(15-6i)$$"
   ]
  },
  {
   "cell_type": "markdown",
   "metadata": {},
   "source": [
    "$$=(5*15)+(5*(-6i))+(3i*15)+(3i*(-6i))$$"
   ]
  },
  {
   "cell_type": "markdown",
   "metadata": {},
   "source": [
    "$$= 75-30i+45i-18i^2$$"
   ]
  },
  {
   "cell_type": "markdown",
   "metadata": {},
   "source": [
    "$$=75+15i+18$$"
   ]
  },
  {
   "cell_type": "markdown",
   "metadata": {},
   "source": [
    "$$=93+15i$$"
   ]
  },
  {
   "cell_type": "markdown",
   "metadata": {},
   "source": [
    "## 4. Conjugado"
   ]
  },
  {
   "cell_type": "markdown",
   "metadata": {},
   "source": [
    "Definiremos una función para calcular el conjugado de un número complejo"
   ]
  },
  {
   "cell_type": "code",
   "execution_count": 9,
   "metadata": {},
   "outputs": [],
   "source": [
    "import math\n",
    "\n",
    "def conjugado(c1):\n",
    "    \"\"\"\n",
    "    La función conjugado recibe un número: c1 (que debe ser una lista de longitud dos) y \n",
    "    retorna el conjugado del mismo número y de la misma forma\n",
    "    \"\"\"\n",
    "    if c1[1] > 0:\n",
    "        return [c1[0],c1[1]*(-1)]\n",
    "    else:\n",
    "        return [c1[0],abs(c1[1])]"
   ]
  },
  {
   "cell_type": "markdown",
   "metadata": {},
   "source": [
    "Ahora probaremos la funciín conjugado en sus dos posibles casos"
   ]
  },
  {
   "cell_type": "code",
   "execution_count": 24,
   "metadata": {},
   "outputs": [
    {
     "data": {
      "text/plain": [
       "[3, -7]"
      ]
     },
     "execution_count": 24,
     "metadata": {},
     "output_type": "execute_result"
    }
   ],
   "source": [
    "c1 = [3,7]\n",
    "conjugado(c1)"
   ]
  },
  {
   "cell_type": "code",
   "execution_count": 23,
   "metadata": {},
   "outputs": [
    {
     "data": {
      "text/plain": [
       "[8, 3]"
      ]
     },
     "execution_count": 23,
     "metadata": {},
     "output_type": "execute_result"
    }
   ],
   "source": [
    "c2 = [8,-3]\n",
    "conjugado(c2)"
   ]
  },
  {
   "cell_type": "markdown",
   "metadata": {},
   "source": [
    "Justificación de la primera parte de la prueba donde la parte imaginaria del número complejo es positiva:"
   ]
  },
  {
   "cell_type": "markdown",
   "metadata": {},
   "source": [
    "$$ c1 = 3+7i$$"
   ]
  },
  {
   "cell_type": "markdown",
   "metadata": {},
   "source": [
    "$${\\displaystyle {\\bar {c1}}} = 3-7i$$"
   ]
  },
  {
   "cell_type": "markdown",
   "metadata": {},
   "source": [
    "Justificación de la segunda parte de la prueba donde la parte imaginaria del número complejo es negativa:"
   ]
  },
  {
   "cell_type": "markdown",
   "metadata": {},
   "source": [
    "$$c2 = 8-3i$$"
   ]
  },
  {
   "cell_type": "markdown",
   "metadata": {},
   "source": [
    "$${\\displaystyle {\\bar {c2}}} = 8+3i$$"
   ]
  },
  {
   "cell_type": "markdown",
   "metadata": {},
   "source": [
    "## 5. División"
   ]
  },
  {
   "cell_type": "markdown",
   "metadata": {},
   "source": [
    "A continuación definiremos una función que nos permitira dividir dos números complejos"
   ]
  },
  {
   "cell_type": "code",
   "execution_count": 10,
   "metadata": {},
   "outputs": [],
   "source": [
    "def division(c1,c2):\n",
    "    \"\"\"\n",
    "    La función división recibe dos números: c1 y c2 (que deben ser listas de longitud dos) y \n",
    "    retorna un número complejo de la misma forma, correspondiente a la operación c1 / c2, recurriendo\n",
    "    a la multiplicación arriba y abajo por el conjugado del número complejo c2\n",
    "    \"\"\"\n",
    "    con = conjugado(c2)\n",
    "    num = multiplicacion(c1,con)\n",
    "    den = multiplicacion(c2,con)\n",
    "    return [num[0]/den[0],num[1]/den[0]]"
   ]
  },
  {
   "cell_type": "markdown",
   "metadata": {},
   "source": [
    "Ahora probaremos la función division"
   ]
  },
  {
   "cell_type": "code",
   "execution_count": 11,
   "metadata": {},
   "outputs": [
    {
     "data": {
      "text/plain": [
       "[0.17073170731707318, -0.5365853658536586]"
      ]
     },
     "execution_count": 11,
     "metadata": {},
     "output_type": "execute_result"
    }
   ],
   "source": [
    "c1 = [3,-2]\n",
    "c2 = [5,4]\n",
    "division(c1,c2)"
   ]
  },
  {
   "cell_type": "markdown",
   "metadata": {},
   "source": [
    "Justificando la prueba obtenemos:"
   ]
  },
  {
   "cell_type": "markdown",
   "metadata": {},
   "source": [
    "$$(3-2i)/(5+4i)$$"
   ]
  },
  {
   "cell_type": "markdown",
   "metadata": {},
   "source": [
    "$$= (15-12i-10i+8i^2)/(25-20i+20i-16i^2)$$"
   ]
  },
  {
   "cell_type": "markdown",
   "metadata": {},
   "source": [
    "$$= (7-22i)/41$$"
   ]
  },
  {
   "cell_type": "markdown",
   "metadata": {},
   "source": [
    "$$= (7/41)-(22i/41)$$"
   ]
  },
  {
   "cell_type": "markdown",
   "metadata": {},
   "source": [
    "## 6. Imprimir de la forma a+ib"
   ]
  },
  {
   "cell_type": "markdown",
   "metadata": {},
   "source": [
    "Acontinuacion construiremos una función para imprimir un numero complejo $[a,b]$, de la forma $a+ib$"
   ]
  },
  {
   "cell_type": "code",
   "execution_count": 30,
   "metadata": {},
   "outputs": [],
   "source": [
    "def imprimir(c1):\n",
    "    #return complex(c1[0],c1[1])\n",
    "    \"\"\"\n",
    "    La función imprimir recibe un número complejo de la forma [a,b] y lo devuelve de la forma a+bi \n",
    "    \"\"\"\n",
    "    if c1[1] >= 0:\n",
    "        return str(c1[0]) +\"+\"+ str(c1[1]) +\"i\"\n",
    "    else:\n",
    "        return str(c1[0]) + str(c1[1]) +\"i\""
   ]
  },
  {
   "cell_type": "markdown",
   "metadata": {},
   "source": [
    "Probemos"
   ]
  },
  {
   "cell_type": "code",
   "execution_count": 32,
   "metadata": {},
   "outputs": [
    {
     "data": {
      "text/plain": [
       "'3+9i'"
      ]
     },
     "execution_count": 32,
     "metadata": {},
     "output_type": "execute_result"
    }
   ],
   "source": [
    "c1 = [3,9]\n",
    "imprimir(c1)"
   ]
  },
  {
   "cell_type": "markdown",
   "metadata": {},
   "source": [
    "## 7. Modulo"
   ]
  },
  {
   "cell_type": "markdown",
   "metadata": {},
   "source": [
    "Ahora crearemos una función que nos permita conocer el modulo de un número complejo"
   ]
  },
  {
   "cell_type": "code",
   "execution_count": 14,
   "metadata": {},
   "outputs": [],
   "source": [
    "def modulo(c1):\n",
    "    \"\"\"\n",
    "    La función modulo recibe un número: c1 (que debe ser una lista de longitud dos) y \n",
    "    retorna un número correspondiente a la raiz de (c1[0]^2+c1[1]^2)\n",
    "    \"\"\"\n",
    "    return math.sqrt(c1[0]**2+c1[1]**2)"
   ]
  },
  {
   "cell_type": "markdown",
   "metadata": {},
   "source": [
    "Probando la función modulo obtenemos"
   ]
  },
  {
   "cell_type": "code",
   "execution_count": 37,
   "metadata": {},
   "outputs": [
    {
     "data": {
      "text/plain": [
       "5.0"
      ]
     },
     "execution_count": 37,
     "metadata": {},
     "output_type": "execute_result"
    }
   ],
   "source": [
    "c1 = [4,3]\n",
    "modulo(c1)"
   ]
  },
  {
   "cell_type": "markdown",
   "metadata": {},
   "source": [
    "Justificación de la prueba "
   ]
  },
  {
   "cell_type": "markdown",
   "metadata": {},
   "source": [
    "$$ c1 = 4+3i$$"
   ]
  },
  {
   "cell_type": "markdown",
   "metadata": {},
   "source": [
    "$$p = {\\displaystyle {\\sqrt {4^2+3^2}}} = 5$$"
   ]
  },
  {
   "cell_type": "markdown",
   "metadata": {},
   "source": [
    "## 8. Fase o ángulo"
   ]
  },
  {
   "cell_type": "markdown",
   "metadata": {},
   "source": [
    "Esta función nos permitira conocer el ánguo de un número complejo"
   ]
  },
  {
   "cell_type": "code",
   "execution_count": 15,
   "metadata": {},
   "outputs": [],
   "source": [
    "def fase(c1):\n",
    "    \"\"\"\n",
    "    La función fase recibe un número: c1 (que debe ser una lista de longitud dos) y \n",
    "    retorna un número correspondiente al angulo θ en radianes\n",
    "    \"\"\"\n",
    "    return math.atan2(c1[1],c1[0])"
   ]
  },
  {
   "cell_type": "markdown",
   "metadata": {},
   "source": [
    "Probando la función obtenemos"
   ]
  },
  {
   "cell_type": "code",
   "execution_count": 19,
   "metadata": {},
   "outputs": [
    {
     "data": {
      "text/plain": [
       "0.7853981633974483"
      ]
     },
     "execution_count": 19,
     "metadata": {},
     "output_type": "execute_result"
    }
   ],
   "source": [
    "c1 = [1,1]\n",
    "fase(c1)"
   ]
  },
  {
   "cell_type": "markdown",
   "metadata": {},
   "source": [
    "Justificacion de la prueba "
   ]
  },
  {
   "cell_type": "markdown",
   "metadata": {},
   "source": [
    "$$θ = arctan(1/1)$$"
   ]
  },
  {
   "cell_type": "markdown",
   "metadata": {},
   "source": [
    "$$= π/4 = 45°$$"
   ]
  },
  {
   "cell_type": "markdown",
   "metadata": {},
   "source": [
    "## 9. Convertir de forma cartesiana a polar"
   ]
  },
  {
   "cell_type": "markdown",
   "metadata": {},
   "source": [
    "Definiremos una función que nos permita convertir un número complejo expresado en forma cartesiana $[a,b]$ a una forma polar $[p,θ]$"
   ]
  },
  {
   "cell_type": "code",
   "execution_count": 16,
   "metadata": {},
   "outputs": [],
   "source": [
    "def conv_a_polar(c1):\n",
    "    \"\"\"\n",
    "    La función con_a_polar recibe un número: c1 (que debe ser una lista de longitud dos) y debe estar \n",
    "    en forma cartesiana para que la función retorne el mismo número en forma polar [p,θ], para esto emplearemos\n",
    "    funciones creadadas con anterioridad como lo son modulo y fase(radianes)\n",
    "    \"\"\"\n",
    "    return[modulo(c1),fase(c1)]"
   ]
  },
  {
   "cell_type": "markdown",
   "metadata": {},
   "source": [
    "Probemos la función conv_a_polar en diferentes casos"
   ]
  },
  {
   "cell_type": "code",
   "execution_count": 53,
   "metadata": {},
   "outputs": [
    {
     "data": {
      "text/plain": [
       "[2.8284271247461903, 2.356194490192345]"
      ]
     },
     "execution_count": 53,
     "metadata": {},
     "output_type": "execute_result"
    }
   ],
   "source": [
    "c1 = [-2,2]\n",
    "conv_a_polar(c1)"
   ]
  },
  {
   "cell_type": "markdown",
   "metadata": {},
   "source": [
    "Justificacion de la prueba 1 donde la parte real del número complejo es negativa "
   ]
  },
  {
   "cell_type": "markdown",
   "metadata": {},
   "source": [
    "$$ c1 = 2+2i$$"
   ]
  },
  {
   "cell_type": "markdown",
   "metadata": {},
   "source": [
    "$$p = {\\displaystyle {\\sqrt {(-2)^2+2^2}}} = {\\displaystyle {\\sqrt {8}}} $$"
   ]
  },
  {
   "cell_type": "markdown",
   "metadata": {},
   "source": [
    "$$θ = arctan(2/2) = 3π/4 $$"
   ]
  },
  {
   "cell_type": "code",
   "execution_count": 56,
   "metadata": {},
   "outputs": [
    {
     "data": {
      "text/plain": [
       "[2.8284271247461903, 0.7853981633974483]"
      ]
     },
     "execution_count": 56,
     "metadata": {},
     "output_type": "execute_result"
    }
   ],
   "source": [
    "c2 = [2,2]\n",
    "conv_a_polar(c2)"
   ]
  },
  {
   "cell_type": "markdown",
   "metadata": {},
   "source": [
    "Justificacion de la prueba 2 donde la parte real del número complejo es positiva"
   ]
  },
  {
   "cell_type": "markdown",
   "metadata": {},
   "source": [
    "$$ c1 = 2+2i$$"
   ]
  },
  {
   "cell_type": "markdown",
   "metadata": {},
   "source": [
    "$$p = {\\displaystyle {\\sqrt {2^2+2^2}}} = {\\displaystyle {\\sqrt {8}}} $$"
   ]
  },
  {
   "cell_type": "markdown",
   "metadata": {},
   "source": [
    "$$θ = arctan(2/2) = π/4 $$"
   ]
  },
  {
   "cell_type": "markdown",
   "metadata": {},
   "source": [
    "## 10. Convertir de forma polar a cartesiana"
   ]
  },
  {
   "cell_type": "markdown",
   "metadata": {},
   "source": [
    "Definiremos una función que nos permita convertir un número complejo expresado en forma polar $[p,θ]$ a una forma cartesiana $[a,b]$"
   ]
  },
  {
   "cell_type": "code",
   "execution_count": 17,
   "metadata": {},
   "outputs": [],
   "source": [
    "def conv_a_cartesiana(c1):\n",
    "    \"\"\"\n",
    "    La función conv_a_cartesiana recibe un número: c1 (que debe ser una lista de longitud dos) y debe estar \n",
    "    en forma polar para que la función retorne el mismo número en forma cartesiana [a,b], donde a = p*cos(θ) \n",
    "    y b = p*sen(θ)\n",
    "    \"\"\"\n",
    "    return [round(c1[0]*math.sin(c1[1]),2), round(c1[0]*math.cos(c1[1]),2)]"
   ]
  },
  {
   "cell_type": "markdown",
   "metadata": {},
   "source": [
    "Probando la función que construimos y validando el resultado de la funcion conv_a_polar especificada anteriormente obtenemos"
   ]
  },
  {
   "cell_type": "code",
   "execution_count": 48,
   "metadata": {},
   "outputs": [
    {
     "data": {
      "text/plain": [
       "[2.0, 2.0]"
      ]
     },
     "execution_count": 48,
     "metadata": {},
     "output_type": "execute_result"
    }
   ],
   "source": [
    "c1 = [2.8284271247461903, 0.7853981633974483]\n",
    "conv_a_cartesiana(c1)"
   ]
  },
  {
   "cell_type": "markdown",
   "metadata": {},
   "source": [
    "Justificación de la prueba "
   ]
  },
  {
   "cell_type": "markdown",
   "metadata": {},
   "source": [
    "Si $$p =  {\\displaystyle {\\sqrt {8}}}$$ "
   ]
  },
  {
   "cell_type": "markdown",
   "metadata": {},
   "source": [
    "y  $$ θ =π/4=45° $$"
   ]
  },
  {
   "cell_type": "markdown",
   "metadata": {},
   "source": [
    "entonces $$ a = {\\displaystyle {\\sqrt {8}}}*sen(π/4) = 2$$"
   ]
  },
  {
   "cell_type": "markdown",
   "metadata": {},
   "source": [
    "$$ b = {\\displaystyle {\\sqrt {8}}}*cos(π/4) = 2$$"
   ]
  },
  {
   "cell_type": "markdown",
   "metadata": {},
   "source": [
    "## 11. Imprimir de la forma polar/exponensial"
   ]
  },
  {
   "cell_type": "markdown",
   "metadata": {},
   "source": [
    "Esta función nos permitira ingresar un número complejo en forma polar $[𝑝,θ]$ y nos devolvera el mismo número de la forma pe^(iθ)"
   ]
  },
  {
   "cell_type": "code",
   "execution_count": 18,
   "metadata": {},
   "outputs": [],
   "source": [
    "def imprimir_po_exponencial(c1):\n",
    "    \"\"\"\n",
    "    La función imprimir_po_exponensial recibe un número: c1 (que debe ser una lista de longitud dos) y debe estar \n",
    "    en forma polar para que la función retorne el mismo número complejo pero de la forma exponensial (pe^(iθ))\n",
    "    \"\"\"\n",
    "    return str(c1[0]) + \"e^\"+ str(c1[1]) + \"i\" "
   ]
  },
  {
   "cell_type": "markdown",
   "metadata": {},
   "source": [
    "Probando la función obtenemos"
   ]
  },
  {
   "cell_type": "code",
   "execution_count": 52,
   "metadata": {},
   "outputs": [
    {
     "data": {
      "text/plain": [
       "'2.8284271247461903e^0.7853981633974483i'"
      ]
     },
     "execution_count": 52,
     "metadata": {},
     "output_type": "execute_result"
    }
   ],
   "source": [
    "c1 = [2.8284271247461903, 0.7853981633974483]\n",
    "imprimir_po_exponencial(c1)"
   ]
  },
  {
   "cell_type": "markdown",
   "metadata": {},
   "source": [
    "## 12. Imprimir de la forma cartesiana/exponensial"
   ]
  },
  {
   "cell_type": "markdown",
   "metadata": {},
   "source": [
    "Esta función nos permitira ingresar un número complejo en forma cartesiana $[a,b]$ y nos devolvera el mismo número de la forma pe^(iθ)"
   ]
  },
  {
   "cell_type": "code",
   "execution_count": 19,
   "metadata": {},
   "outputs": [],
   "source": [
    "def imprimir_ca_exponencial(c1):\n",
    "    \"\"\"\n",
    "    La función imprimir_ca_exponensial recibe un número: c1 (que debe ser una lista de longitud dos) y debe estar \n",
    "    en forma cartesiana [a,b] para que la función retorne el mismo número complejo pero de la forma exponensial (pe^(iθ))\n",
    "    \"\"\"\n",
    "    return str(modulo(c1)) + \"e^\"+ str(fase(c1)) + \"i\" "
   ]
  },
  {
   "cell_type": "markdown",
   "metadata": {},
   "source": [
    "Prueba de la función"
   ]
  },
  {
   "cell_type": "code",
   "execution_count": 58,
   "metadata": {},
   "outputs": [
    {
     "data": {
      "text/plain": [
       "'2.8284271247461903e^2.356194490192345i'"
      ]
     },
     "execution_count": 58,
     "metadata": {},
     "output_type": "execute_result"
    }
   ],
   "source": [
    "c1 = [-2,2]\n",
    "imprimir_ca_exponencial(c1)"
   ]
  },
  {
   "cell_type": "markdown",
   "metadata": {},
   "source": [
    "Esto nos permite corroborar pruebas anteriores"
   ]
  },
  {
   "cell_type": "markdown",
   "metadata": {},
   "source": [
    "## 13. Potencia n de un complejo"
   ]
  },
  {
   "cell_type": "markdown",
   "metadata": {},
   "source": [
    "Esta función nos permite calcular la n-ésima potencia de un número complejo ingresando el número de la forma $[a,b]$  "
   ]
  },
  {
   "cell_type": "code",
   "execution_count": 25,
   "metadata": {},
   "outputs": [],
   "source": [
    "\n",
    "def potencia(n,c1): \n",
    "    \"\"\"\n",
    "    La función potencia recibe un número: c1 (que debe ser una lista de longitud dos) y debe estar \n",
    "    en forma cartesiana [a,b] y un número n que será la potencia que queremos del número complejo, la función debe retornar \n",
    "    un número [c,d] donde el módulo es la potencia n-ésima del módulo original y su argumento (ángulo en radianes) es n veces \n",
    "    el argumento dado.\n",
    "    \"\"\"\n",
    "    m_f = conv_a_polar(c1)\n",
    "    return [m_f[0]**n,m_f[1]*n]"
   ]
  },
  {
   "cell_type": "markdown",
   "metadata": {},
   "source": [
    "Probando la función obtenemos"
   ]
  },
  {
   "cell_type": "code",
   "execution_count": 26,
   "metadata": {},
   "outputs": [
    {
     "data": {
      "text/plain": [
       "[32.00000000000002, 7.853981633974483]"
      ]
     },
     "execution_count": 26,
     "metadata": {},
     "output_type": "execute_result"
    }
   ],
   "source": [
    "c1 = [1,1]\n",
    "potencia(10,c1)"
   ]
  },
  {
   "cell_type": "markdown",
   "metadata": {},
   "source": [
    " "
   ]
  },
  {
   "cell_type": "code",
   "execution_count": null,
   "metadata": {},
   "outputs": [],
   "source": []
  }
 ],
 "metadata": {
  "kernelspec": {
   "display_name": "Python 3",
   "language": "python",
   "name": "python3"
  },
  "language_info": {
   "codemirror_mode": {
    "name": "ipython",
    "version": 3
   },
   "file_extension": ".py",
   "mimetype": "text/x-python",
   "name": "python",
   "nbconvert_exporter": "python",
   "pygments_lexer": "ipython3",
   "version": "3.7.3"
  }
 },
 "nbformat": 4,
 "nbformat_minor": 2
}
